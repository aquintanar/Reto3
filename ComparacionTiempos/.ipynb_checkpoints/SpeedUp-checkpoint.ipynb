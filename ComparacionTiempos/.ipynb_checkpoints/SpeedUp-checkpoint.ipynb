{
 "cells": [
  {
   "cell_type": "code",
   "execution_count": 1,
   "id": "2eddd9a4",
   "metadata": {},
   "outputs": [],
   "source": [
    "import ctypes\n",
    "import numpy\n",
    "from numpy import linalg as LA\n",
    "\n",
    "\n"
   ]
  },
  {
   "cell_type": "code",
   "execution_count": 2,
   "id": "f6471916",
   "metadata": {},
   "outputs": [
    {
     "name": "stdout",
     "output_type": "stream",
     "text": [
      "Overwriting c_LimTrad.c\n"
     ]
    }
   ],
   "source": [
    "%%file c_LimTrad.c\n",
    "double c_LimTrad(int N){\n",
    "    double division;\n",
    "    double acumulador=1;\n",
    "    division = (double)1/N;\n",
    "\n",
    "    for(int i=0;i<N;i++){\n",
    "        acumulador=(1+division)*acumulador;\n",
    "    }\n",
    "\n",
    "    return acumulador;\n",
    "}"
   ]
  },
  {
   "cell_type": "code",
   "execution_count": 3,
   "id": "514a015a",
   "metadata": {},
   "outputs": [],
   "source": [
    "# para generar el object file\n",
    "! gcc -c -Wall -Werror  -fpic  c_LimTrad.c\n",
    "\n",
    "# para crear la shared library\n",
    "! gcc -shared  c_LimTrad.o -o _c_LimTrad.so"
   ]
  },
  {
   "cell_type": "code",
   "execution_count": 4,
   "id": "51ae1c25",
   "metadata": {},
   "outputs": [],
   "source": [
    "def ctypes_LimTrad():\n",
    "    # ruta de la shared library\n",
    "    lib = ctypes.CDLL('./_c_LimTrad.so')\n",
    "    \n",
    "    # tipo de los argumentos\n",
    "    lib.c_LimTrad.argtypes = [ctypes.c_int]\n",
    "    \n",
    "    # tipo de la salida\n",
    "    lib.c_LimTrad.restype  = ctypes.c_double\n",
    "    \n",
    "    # se devuelve la función configurada\n",
    "    return lib.c_LimTrad"
   ]
  },
  {
   "cell_type": "code",
   "execution_count": 5,
   "id": "e46bb31f",
   "metadata": {},
   "outputs": [],
   "source": [
    "# instancia de la funcion\n",
    "cLimTrad = ctypes_LimTrad()"
   ]
  },
  {
   "cell_type": "code",
   "execution_count": 6,
   "id": "ef4d14a6",
   "metadata": {},
   "outputs": [
    {
     "name": "stdout",
     "output_type": "stream",
     "text": [
      "Overwriting sm_LimTrad.asm\n"
     ]
    }
   ],
   "source": [
    "%%file sm_LimTrad.asm\n",
    "    global sm_LimTrad\n",
    "    section .text\n",
    "sm_LimTrad:\n",
    "    mov r8,rdi\n",
    "    xorpd xmm0,xmm0\n",
    "    xorpd xmm1,xmm1\n",
    "    xorpd xmm2,xmm2\n",
    "    xorpd xmm3,xmm3\n",
    "\n",
    "    mov r9,1\n",
    "    cvtsi2sd xmm2,r9\n",
    "    mov r10,r8\n",
    "    cvtsi2sd xmm3,r10\n",
    "    divsd xmm2,xmm3\n",
    "\n",
    "    cvtsi2sd xmm0,r9\n",
    "    addsd xmm0,xmm2 \n",
    "\n",
    "    mov r11,1\n",
    "\n",
    "    movsd xmm1,xmm0\n",
    "     \n",
    "    potencia:\n",
    "        mulsd xmm0,xmm1\n",
    "        inc r11\n",
    "        cmp r11,rdi\n",
    "        jne potencia\n",
    "    ret \n"
   ]
  },
  {
   "cell_type": "code",
   "execution_count": 7,
   "id": "64836041",
   "metadata": {},
   "outputs": [
    {
     "name": "stdout",
     "output_type": "stream",
     "text": [
      "Overwriting sm_LimTrad.c\n"
     ]
    }
   ],
   "source": [
    "%%file sm_LimTrad.c\n",
    "extern double sm_LimTrad(int N);"
   ]
  },
  {
   "cell_type": "code",
   "execution_count": 8,
   "id": "d491b9d8",
   "metadata": {},
   "outputs": [],
   "source": [
    "! nasm -f elf64 sm_LimTrad.asm -o sm_LimTrad.o\n",
    "! gcc -shared sm_LimTrad.o sm_LimTrad.c -o _sm_LimTrad.so"
   ]
  },
  {
   "cell_type": "code",
   "execution_count": 9,
   "id": "accb32b8",
   "metadata": {},
   "outputs": [],
   "source": [
    "def ctypes_sm_LimTrad():\n",
    "    # indicar la ruta de la shared library\n",
    "    libfile = './_sm_LimTrad.so'\n",
    "\n",
    "    # cargar la shared library\n",
    "    lib = ctypes.CDLL(libfile)\n",
    "\n",
    "    # tipo de dato de los argumentos\n",
    "    lib.sm_LimTrad.argtypes = [ctypes.c_int]\n",
    "    lib.sm_LimTrad.restype  = ctypes.c_double\n",
    "    \n",
    "    # funcion configurada\n",
    "    return lib.sm_LimTrad"
   ]
  },
  {
   "cell_type": "code",
   "execution_count": 10,
   "id": "3b7ff1c5",
   "metadata": {},
   "outputs": [],
   "source": [
    "asmLimTrad = ctypes_sm_LimTrad()"
   ]
  },
  {
   "cell_type": "code",
   "execution_count": null,
   "id": "d1fda6c3",
   "metadata": {},
   "outputs": [],
   "source": []
  },
  {
   "cell_type": "code",
   "execution_count": 11,
   "id": "afebef2f",
   "metadata": {},
   "outputs": [
    {
     "name": "stdout",
     "output_type": "stream",
     "text": [
      "Overwriting c_LimMej.c\n"
     ]
    }
   ],
   "source": [
    "%%file c_LimMej.c\n",
    "double c_LimMej(int N ){\n",
    "    double resultado;\n",
    "    resultado=(double)1/N;\n",
    "    resultado = resultado+1;\n",
    "    double res=1;\n",
    "    int residuo=N/2;\n",
    "    for(int i=0;i<residuo;i++)\n",
    "        res=res*resultado;\n",
    "    if(N%2!=0)\n",
    "        return resultado*res*res;\n",
    "\n",
    "    return res*res;\n",
    "}\n",
    "\n"
   ]
  },
  {
   "cell_type": "code",
   "execution_count": 12,
   "id": "3b9be14a",
   "metadata": {},
   "outputs": [],
   "source": [
    "# para generar el object file\n",
    "! gcc -c -Wall -Werror  -fpic  c_LimMej.c\n",
    "\n",
    "# para crear la shared library\n",
    "! gcc -shared  c_LimMej.o -o _c_LimMej.so"
   ]
  },
  {
   "cell_type": "code",
   "execution_count": 13,
   "id": "32e5e7c9",
   "metadata": {},
   "outputs": [],
   "source": [
    "def ctypes_LimMej():\n",
    "    # ruta de la shared library\n",
    "    lib = ctypes.CDLL('./_c_LimMej.so')\n",
    "    \n",
    "    # tipo de los argumentos\n",
    "    lib.c_LimMej.argtypes = [ctypes.c_int]\n",
    "    \n",
    "    # tipo de la salida\n",
    "    lib.c_LimMej.restype  = ctypes.c_double\n",
    "    \n",
    "    # se devuelve la función configurada\n",
    "    return lib.c_LimMej"
   ]
  },
  {
   "cell_type": "code",
   "execution_count": 14,
   "id": "a53b94d5",
   "metadata": {},
   "outputs": [],
   "source": [
    "# instancia de la funcion\n",
    "cLimMej = ctypes_LimMej()"
   ]
  },
  {
   "cell_type": "code",
   "execution_count": 15,
   "id": "1109b601",
   "metadata": {},
   "outputs": [
    {
     "name": "stdout",
     "output_type": "stream",
     "text": [
      "Overwriting sm_LimMej.asm\n"
     ]
    }
   ],
   "source": [
    "%%file sm_LimMej.asm\n",
    "global sm_LimMej\n",
    "    section .text\n",
    "sm_LimMej:\n",
    "    mov r8,rdi\n",
    "    mov r9,1\n",
    "\n",
    "    xorpd xmm0,xmm0\n",
    "    xorpd xmm1,xmm1 \n",
    "    xorpd xmm2,xmm2\n",
    "    xorpd xmm3,xmm3 \n",
    "\n",
    "    cvtsi2sd xmm0,r8\n",
    "    cvtsi2sd xmm1,r9\n",
    "\n",
    "    divsd xmm1,xmm0\n",
    "\n",
    "    cvtsi2sd xmm0,r9 \n",
    "\n",
    "    addsd xmm1,xmm0   ;Tenemos en xmm1 el valor\n",
    "\n",
    "\n",
    "    movsd xmm0,xmm1\n",
    "    mov rax,rdi\n",
    "    mov r10,2\n",
    "    div r10\n",
    "\n",
    "    mov r11,1\n",
    "    potencia:\n",
    "        mulsd xmm1,xmm0\n",
    "        inc r11\n",
    "        cmp r11,rax\n",
    "        jne potencia \n",
    "    \n",
    "    \n",
    "\n",
    "\n",
    "    mov rax,rdi\n",
    "    mov r10,2\n",
    "\n",
    "    div r10\n",
    "\n",
    "    mov r10,0\n",
    "    cmp rdx,r10\n",
    "    je par\n",
    "    jmp impar\n",
    "\n",
    "\n",
    "    par:\n",
    "        mulsd xmm1,xmm1\n",
    "        movsd xmm0,xmm1  \n",
    "        ret \n",
    "\n",
    "\n",
    "    impar:\n",
    "        mulsd xmm1,xmm1\n",
    "        mulsd xmm1,xmm0 \n",
    "        movsd xmm0,xmm1\n",
    "        ret\n",
    "\n"
   ]
  },
  {
   "cell_type": "code",
   "execution_count": 16,
   "id": "1845e3f8",
   "metadata": {},
   "outputs": [
    {
     "name": "stdout",
     "output_type": "stream",
     "text": [
      "Overwriting sm_LimMej.c\n"
     ]
    }
   ],
   "source": [
    "%%file sm_LimMej.c\n",
    "extern double sm_LimMej(int N);"
   ]
  },
  {
   "cell_type": "code",
   "execution_count": 17,
   "id": "5bf77b30",
   "metadata": {},
   "outputs": [],
   "source": [
    "! nasm -f elf64 sm_LimMej.asm -o sm_LimMej.o\n",
    "! gcc -shared sm_LimMej.o sm_LimMej.c -o _sm_LimMej.so"
   ]
  },
  {
   "cell_type": "code",
   "execution_count": 18,
   "id": "246f2240",
   "metadata": {},
   "outputs": [],
   "source": [
    "def ctypes_sm_LimMej():\n",
    "    # indicar la ruta de la shared library\n",
    "    libfile = './_sm_LimMej.so'\n",
    "\n",
    "    # cargar la shared library\n",
    "    lib = ctypes.CDLL(libfile)\n",
    "\n",
    "    # tipo de dato de los argumentos\n",
    "    lib.sm_LimMej.argtypes = [ctypes.c_int]\n",
    "    lib.sm_LimMej.restype  = ctypes.c_double\n",
    "    \n",
    "    # funcion configurada\n",
    "    return lib.sm_LimMej"
   ]
  },
  {
   "cell_type": "code",
   "execution_count": 19,
   "id": "fb943a2f",
   "metadata": {},
   "outputs": [],
   "source": [
    "asmLimMej = ctypes_sm_LimMej()"
   ]
  },
  {
   "cell_type": "code",
   "execution_count": 1,
   "id": "aa67c267",
   "metadata": {},
   "outputs": [
    {
     "ename": "NameError",
     "evalue": "name 'cLimTrad' is not defined",
     "output_type": "error",
     "traceback": [
      "\u001b[0;31m---------------------------------------------------------------------------\u001b[0m",
      "\u001b[0;31mNameError\u001b[0m                                 Traceback (most recent call last)",
      "\u001b[0;32m/tmp/ipykernel_10642/2598436506.py\u001b[0m in \u001b[0;36m<module>\u001b[0;34m\u001b[0m\n\u001b[1;32m      5\u001b[0m \u001b[0;31m#C\u001b[0m\u001b[0;34m\u001b[0m\u001b[0;34m\u001b[0m\u001b[0;34m\u001b[0m\u001b[0m\n\u001b[1;32m      6\u001b[0m \u001b[0mt\u001b[0m\u001b[0;34m=\u001b[0m\u001b[0mtime\u001b[0m\u001b[0;34m.\u001b[0m\u001b[0mtime\u001b[0m\u001b[0;34m(\u001b[0m\u001b[0;34m)\u001b[0m\u001b[0;34m\u001b[0m\u001b[0;34m\u001b[0m\u001b[0m\n\u001b[0;32m----> 7\u001b[0;31m \u001b[0mcLimTrad\u001b[0m\u001b[0;34m(\u001b[0m\u001b[0;36m100\u001b[0m\u001b[0;34m)\u001b[0m\u001b[0;34m\u001b[0m\u001b[0;34m\u001b[0m\u001b[0m\n\u001b[0m\u001b[1;32m      8\u001b[0m \u001b[0mtcs\u001b[0m \u001b[0;34m=\u001b[0m \u001b[0mtime\u001b[0m\u001b[0;34m.\u001b[0m\u001b[0mtime\u001b[0m\u001b[0;34m(\u001b[0m\u001b[0;34m)\u001b[0m\u001b[0;34m-\u001b[0m\u001b[0mt\u001b[0m\u001b[0;34m\u001b[0m\u001b[0;34m\u001b[0m\u001b[0m\n\u001b[1;32m      9\u001b[0m \u001b[0;34m\u001b[0m\u001b[0m\n",
      "\u001b[0;31mNameError\u001b[0m: name 'cLimTrad' is not defined"
     ]
    }
   ],
   "source": [
    "import matplotlib.pyplot as plt\n",
    "import time\n",
    "#Analisis de tiempos en C y asm sin Mejora\n",
    "\n",
    "#C\n",
    "t=time.time()\n",
    "cLimTrad(100)\n",
    "tcs = time.time()-t\n",
    "\n",
    "#ASM\n",
    "t=time.time()\n",
    "asmLimTrad(100)\n",
    "tasms = time.time()-t\n",
    "\n",
    "\n",
    "variableSinMejora = tcs/tasms\n",
    "#Analisis de tiempos en C y asm con Mejora\n",
    "\n",
    "#C\n",
    "t=time.time()\n",
    "cLimMej(100)\n",
    "tcm = time.time()-t\n",
    "\n",
    "#ASM\n",
    "t=time.time()\n",
    "asmLimMej(100)\n",
    "tasmm = time.time()-t\n",
    "\n",
    "variableConMejora = tcm/tasmm\n",
    "\n",
    "\n",
    "\n"
   ]
  },
  {
   "cell_type": "code",
   "execution_count": 191,
   "id": "2e9ee19a",
   "metadata": {},
   "outputs": [
    {
     "name": "stdout",
     "output_type": "stream",
     "text": [
      "rm: cannot remove '.asm': No such file or directory\n",
      "rm: cannot remove '*': No such file or directory\n",
      "rm: cannot remove '.c': No such file or directory\n"
     ]
    }
   ],
   "source": [
    "! rm *.o\n",
    "! rm *.so\n",
    "! rm * .asm\n",
    "! rm * .c"
   ]
  },
  {
   "cell_type": "code",
   "execution_count": null,
   "id": "30f483c4",
   "metadata": {},
   "outputs": [],
   "source": []
  }
 ],
 "metadata": {
  "kernelspec": {
   "display_name": "Python 3 (ipykernel)",
   "language": "python",
   "name": "python3"
  },
  "language_info": {
   "codemirror_mode": {
    "name": "ipython",
    "version": 3
   },
   "file_extension": ".py",
   "mimetype": "text/x-python",
   "name": "python",
   "nbconvert_exporter": "python",
   "pygments_lexer": "ipython3",
   "version": "3.8.10"
  }
 },
 "nbformat": 4,
 "nbformat_minor": 5
}
